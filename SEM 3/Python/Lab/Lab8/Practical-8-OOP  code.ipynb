{
 "cells": [
  {
   "cell_type": "markdown",
   "id": "satisfied-extent",
   "metadata": {},
   "source": [
    "### Exercises\n",
    "<ol>\n",
    "    <li> Create a Calculator class with data members: operand1, operand2 and operator, and member functions: set(), add(), subtract(), multiply(), power(), and divide(). Show usage of class objects.\n",
    "    <li> Add constructor to the class Calculator \n",
    "    <li> Create a class Employee with data members: empno, name, gender, birthdate, da_rate, hra_rate, basic_salary, and member functions: constructor, set(), calc_da(), calc_hra(), calc_netsalary(). Assume suitable rates for da and hra.\n",
    "    <li> Create a class String with a data member str, and member functions: strlen(), toUpperCase(), toReverseCase(), reverse(), split(), and suppressAccessiveSpaces(). The split() should accept one character parameter and it should split the string accordingly. \n",
    "    <li> Create a constructor in the class Employee. Show usage of it.\n",
    "    <li> Experiment with method overloading. Explain your observations.\n",
    "    <li> Experiment with private/public members in class. Explain your observations.\n",
    "</ol>\n"
   ]
  },
  {
   "cell_type": "code",
   "execution_count": 1,
   "id": "ef915713",
   "metadata": {},
   "outputs": [],
   "source": [
    "class Calculator:\n",
    "    def __init__(self, operand1=0, operand2=0, operator='+'):\n",
    "        self.operand1 = operand1\n",
    "        self.operand2 = operand2\n",
    "        self.operator = operator\n",
    "\n",
    "    def set(self, operand1, operand2, operator):\n",
    "        self.operand1 = operand1\n",
    "        self.operand2 = operand2\n",
    "        self.operator = operator\n",
    "\n",
    "    def add(self):\n",
    "        return self.operand1 + self.operand2\n",
    "\n",
    "    def subtract(self):\n",
    "        return self.operand1 - self.operand2\n",
    "\n",
    "    def multiply(self):\n",
    "        return self.operand1 * self.operand2\n",
    "\n",
    "    def power(self):\n",
    "        return self.operand1 ** self.operand2\n",
    "\n",
    "    def divide(self):\n",
    "        if self.operand2 != 0:\n",
    "            return self.operand1 / self.operand2\n",
    "        else:\n",
    "            return 'Error: Division by zero'\n"
   ]
  },
  {
   "cell_type": "code",
   "execution_count": 5,
   "id": "858cb439",
   "metadata": {},
   "outputs": [
    {
     "name": "stdout",
     "output_type": "stream",
     "text": [
      "7\n"
     ]
    }
   ],
   "source": [
    "calc = Calculator(3, 4, '+')\n",
    "print(calc.add())  \n"
   ]
  },
  {
   "cell_type": "code",
   "execution_count": 9,
   "id": "1b659cc9",
   "metadata": {},
   "outputs": [],
   "source": [
    "import datetime\n",
    "\n",
    "class Employee:\n",
    "    def __init__(self, empno, name, gender, birthdate, da_rate=0.10, hra_rate=0.20, basic_salary=10000):\n",
    "        self.empno = empno\n",
    "        self.name = name\n",
    "        self.gender = gender\n",
    "        self.birthdate = datetime.datetime.strptime(birthdate, '%Y-%m-%d')\n",
    "        self.da_rate = da_rate\n",
    "        self.hra_rate = hra_rate\n",
    "        self.basic_salary = basic_salary\n",
    "\n",
    "    def set(self, empno, name, gender, birthdate, da_rate=0.10, hra_rate=0.20, basic_salary=10000):\n",
    "        self.empno = empno\n",
    "        self.name = name\n",
    "        self.gender = gender\n",
    "        self.birthdate = datetime.datetime.strptime(birthdate, '%Y-%m-%d')\n",
    "        self.da_rate = da_rate\n",
    "        self.hra_rate = hra_rate\n",
    "        self.basic_salary = basic_salary\n",
    "\n",
    "    def calc_da(self):\n",
    "        return self.basic_salary * self.da_rate\n",
    "\n",
    "    def calc_hra(self):\n",
    "        return self.basic_salary * self.hra_rate\n",
    "\n",
    "    def calc_netsalary(self):\n",
    "        return (self.basic_salary + self.calc_da() + self.calc_hra())\n"
   ]
  },
  {
   "cell_type": "code",
   "execution_count": 13,
   "id": "cc5a2946",
   "metadata": {},
   "outputs": [
    {
     "name": "stdout",
     "output_type": "stream",
     "text": [
      "13000.0\n"
     ]
    }
   ],
   "source": [
    "emp = Employee(101, 'Jay', 'M', '2001-01-01')\n",
    "print(emp.calc_netsalary()) \n"
   ]
  },
  {
   "cell_type": "code",
   "execution_count": 14,
   "id": "40ad8db4",
   "metadata": {},
   "outputs": [],
   "source": [
    "class String:\n",
    "    def __init__(self, str=''):\n",
    "        self.str = str\n",
    "\n",
    "    def strlen(self):\n",
    "        return len(self.str)\n",
    "\n",
    "    def toUpperCase(self):\n",
    "        return self.str.upper()\n",
    "\n",
    "    def toReverseCase(self):\n",
    "        return ''.join([i.lower() if i.isupper() else i.upper() for i in str])\n",
    "\n",
    "    def reverse(self):\n",
    "        return str[::-1]\n",
    "\n",
    "    def split(self, char=' '):\n",
    "        return str.split(char)\n",
    "\n",
    "    def suppressAccessiveSpaces(self):\n",
    "      return \" \".join(str.split())\n"
   ]
  },
  {
   "cell_type": "code",
   "execution_count": null,
   "id": "fc094528",
   "metadata": {},
   "outputs": [],
   "source": []
  }
 ],
 "metadata": {
  "kernelspec": {
   "display_name": "Python 3 (ipykernel)",
   "language": "python",
   "name": "python3"
  },
  "language_info": {
   "codemirror_mode": {
    "name": "ipython",
    "version": 3
   },
   "file_extension": ".py",
   "mimetype": "text/x-python",
   "name": "python",
   "nbconvert_exporter": "python",
   "pygments_lexer": "ipython3",
   "version": "3.11.1"
  }
 },
 "nbformat": 4,
 "nbformat_minor": 5
}
